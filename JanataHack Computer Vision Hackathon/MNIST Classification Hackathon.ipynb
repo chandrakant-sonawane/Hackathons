{
 "cells": [
  {
   "cell_type": "code",
   "execution_count": 1,
   "metadata": {},
   "outputs": [],
   "source": [
    "from platform import python_version\n",
    "print(python_version())"
   ]
  },
  {
   "cell_type": "code",
   "execution_count": 2,
   "metadata": {},
   "outputs": [
    {
     "name": "stdout",
     "output_type": "stream",
     "text": [
      "2.3.0\n"
     ]
    }
   ],
   "source": [
    "import tensorflow as tf\n",
    "import numpy as np\n",
    "import matplotlib.pyplot as plt\n",
    "import numpy as np\n",
    "import pandas as pd\n",
    "\n",
    "import glob\n",
    "import cv2\n",
    "print(tf.__version__)"
   ]
  },
  {
   "cell_type": "code",
   "execution_count": 3,
   "metadata": {},
   "outputs": [],
   "source": [
    "physical_devices = tf.config.list_physical_devices('GPU')\n",
    "tf.config.experimental.set_memory_growth(physical_devices[0], True)"
   ]
  },
  {
   "cell_type": "code",
   "execution_count": 4,
   "metadata": {},
   "outputs": [],
   "source": [
    "train_images = []\n",
    "for i in range(0,49000):\n",
    "    n= cv2.imread(\"./Train_UQcUa52/train/\"+ str(i) + \".png\")\n",
    "    train_images.append(n)   \n",
    "train_images = np.asarray(train_images)\n",
    "train_labels = pd.read_csv(\"./Train_UQcUa52/train.csv\", usecols=['label']).values.flatten() \n",
    "    \n",
    "test_images = []\n",
    "for i in range(49000,70000):\n",
    "    n= cv2.imread(\"./Test_UQcUa52/test/\"+ str(i) + \".png\")\n",
    "    test_images.append(n)\n",
    "test_images = np.asarray(test_images)\n",
    "\n",
    "train_images = (train_images)/ 255.0\n",
    "test_images = (test_images)/ 255.0\n",
    "\n",
    "train_images = train_images[:,:,:,0].reshape((train_images.shape[0], 28, 28, 1))\n",
    "test_images = test_images[:,:,:,0].reshape((test_images.shape[0], 28, 28, 1))"
   ]
  },
  {
   "cell_type": "code",
   "execution_count": 5,
   "metadata": {},
   "outputs": [
    {
     "data": {
      "text/plain": [
       "(21000, 28, 28, 1)"
      ]
     },
     "execution_count": 5,
     "metadata": {},
     "output_type": "execute_result"
    }
   ],
   "source": [
    "test_images.shape"
   ]
  },
  {
   "cell_type": "code",
   "execution_count": 6,
   "metadata": {},
   "outputs": [
    {
     "data": {
      "text/plain": [
       "(49000, 28, 28, 1)"
      ]
     },
     "execution_count": 6,
     "metadata": {},
     "output_type": "execute_result"
    }
   ],
   "source": [
    "train_images.shape"
   ]
  },
  {
   "cell_type": "code",
   "execution_count": 7,
   "metadata": {},
   "outputs": [
    {
     "data": {
      "image/png": "[encoded data removed]",
      "text/plain": [
       "<Figure size 720x720 with 25 Axes>"
      ]
     },
     "metadata": {},
     "output_type": "display_data"
    }
   ],
   "source": [
    "class_names = ['Zero', 'One', 'Two', 'Three', 'Four', 'Five', 'Six', 'Seven', 'Eight', 'Nine']\n",
    "\n",
    "plt.figure(figsize=(10,10))\n",
    "for i in range(25):\n",
    "    plt.subplot(5,5,i+1)\n",
    "    plt.xticks([])\n",
    "    plt.yticks([])\n",
    "    plt.grid(False)\n",
    "    plt.imshow(train_images[i], cmap=plt.cm.binary)\n",
    "    plt.xlabel(class_names[train_labels[i]])\n",
    "plt.show()"
   ]
  },
  {
   "cell_type": "code",
   "execution_count": 8,
   "metadata": {},
   "outputs": [
    {
     "name": "stdout",
     "output_type": "stream",
     "text": [
      "Model: \"Classifical_model\"\n",
      "__________________________________________________________________________________________________\n",
      "Layer (type)                    Output Shape         Param #     Connected to                     \n",
      "==================================================================================================\n",
      "img (InputLayer)                [(None, 28, 28, 1)]  0                                            \n",
      "__________________________________________________________________________________________________\n",
      "conv2d (Conv2D)                 (None, 28, 28, 64)   640         img[0][0]                        \n",
      "__________________________________________________________________________________________________\n",
      "conv2d_1 (Conv2D)               (None, 28, 28, 64)   36928       conv2d[0][0]                     \n",
      "__________________________________________________________________________________________________\n",
      "batch_normalization (BatchNorma (None, 28, 28, 64)   256         conv2d_1[0][0]                   \n",
      "__________________________________________________________________________________________________\n",
      "max_pooling2d (MaxPooling2D)    (None, 14, 14, 64)   0           batch_normalization[0][0]        \n",
      "__________________________________________________________________________________________________\n",
      "global_average_pooling2d (Globa (None, 64)           0           max_pooling2d[0][0]              \n",
      "__________________________________________________________________________________________________\n",
      "reshape (Reshape)               (None, 1, 64)        0           global_average_pooling2d[0][0]   \n",
      "__________________________________________________________________________________________________\n",
      "dense (Dense)                   (None, 1, 4)         260         reshape[0][0]                    \n",
      "__________________________________________________________________________________________________\n",
      "dense_1 (Dense)                 (None, 1, 64)        320         dense[0][0]                      \n",
      "__________________________________________________________________________________________________\n",
      "multiply (Multiply)             (None, 14, 14, 64)   0           max_pooling2d[0][0]              \n",
      "                                                                 dense_1[0][0]                    \n",
      "__________________________________________________________________________________________________\n",
      "dropout (Dropout)               (None, 14, 14, 64)   0           multiply[0][0]                   \n",
      "__________________________________________________________________________________________________\n",
      "conv2d_2 (Conv2D)               (None, 14, 14, 64)   36928       dropout[0][0]                    \n",
      "__________________________________________________________________________________________________\n",
      "conv2d_3 (Conv2D)               (None, 14, 14, 64)   36928       conv2d_2[0][0]                   \n",
      "__________________________________________________________________________________________________\n",
      "batch_normalization_1 (BatchNor (None, 14, 14, 64)   256         conv2d_3[0][0]                   \n",
      "__________________________________________________________________________________________________\n",
      "max_pooling2d_1 (MaxPooling2D)  (None, 7, 7, 64)     0           batch_normalization_1[0][0]      \n",
      "__________________________________________________________________________________________________\n",
      "global_average_pooling2d_1 (Glo (None, 64)           0           max_pooling2d_1[0][0]            \n",
      "__________________________________________________________________________________________________\n",
      "reshape_1 (Reshape)             (None, 1, 64)        0           global_average_pooling2d_1[0][0] \n",
      "__________________________________________________________________________________________________\n",
      "dense_2 (Dense)                 (None, 1, 4)         260         reshape_1[0][0]                  \n",
      "__________________________________________________________________________________________________\n",
      "dense_3 (Dense)                 (None, 1, 64)        320         dense_2[0][0]                    \n",
      "__________________________________________________________________________________________________\n",
      "multiply_1 (Multiply)           (None, 7, 7, 64)     0           max_pooling2d_1[0][0]            \n",
      "                                                                 dense_3[0][0]                    \n",
      "__________________________________________________________________________________________________\n",
      "dropout_1 (Dropout)             (None, 7, 7, 64)     0           multiply_1[0][0]                 \n",
      "__________________________________________________________________________________________________\n",
      "conv2d_4 (Conv2D)               (None, 7, 7, 128)    73856       dropout_1[0][0]                  \n",
      "__________________________________________________________________________________________________\n",
      "conv2d_5 (Conv2D)               (None, 7, 7, 128)    147584      conv2d_4[0][0]                   \n",
      "__________________________________________________________________________________________________\n",
      "batch_normalization_2 (BatchNor (None, 7, 7, 128)    512         conv2d_5[0][0]                   \n",
      "__________________________________________________________________________________________________\n",
      "max_pooling2d_2 (MaxPooling2D)  (None, 3, 3, 128)    0           batch_normalization_2[0][0]      \n",
      "__________________________________________________________________________________________________\n",
      "global_average_pooling2d_2 (Glo (None, 128)          0           max_pooling2d_2[0][0]            \n",
      "__________________________________________________________________________________________________\n",
      "reshape_2 (Reshape)             (None, 1, 128)       0           global_average_pooling2d_2[0][0] \n",
      "__________________________________________________________________________________________________\n",
      "dense_4 (Dense)                 (None, 1, 8)         1032        reshape_2[0][0]                  \n",
      "__________________________________________________________________________________________________\n",
      "dense_5 (Dense)                 (None, 1, 128)       1152        dense_4[0][0]                    \n",
      "__________________________________________________________________________________________________\n",
      "multiply_2 (Multiply)           (None, 3, 3, 128)    0           max_pooling2d_2[0][0]            \n",
      "                                                                 dense_5[0][0]                    \n",
      "__________________________________________________________________________________________________\n",
      "dropout_2 (Dropout)             (None, 3, 3, 128)    0           multiply_2[0][0]                 \n",
      "__________________________________________________________________________________________________\n",
      "flatten (Flatten)               (None, 1152)         0           dropout_2[0][0]                  \n",
      "__________________________________________________________________________________________________\n",
      "dense_6 (Dense)                 (None, 256)          295168      flatten[0][0]                    \n",
      "__________________________________________________________________________________________________\n",
      "dropout_3 (Dropout)             (None, 256)          0           dense_6[0][0]                    \n",
      "__________________________________________________________________________________________________\n",
      "dense_7 (Dense)                 (None, 64)           16448       dropout_3[0][0]                  \n",
      "__________________________________________________________________________________________________\n",
      "dropout_4 (Dropout)             (None, 64)           0           dense_7[0][0]                    \n",
      "__________________________________________________________________________________________________\n",
      "dense_8 (Dense)                 (None, 10)           650         dropout_4[0][0]                  \n",
      "==================================================================================================\n",
      "Total params: 649,498\n",
      "Trainable params: 648,986\n",
      "Non-trainable params: 512\n",
      "__________________________________________________________________________________________________\n"
     ]
    }
   ],
   "source": [
    "def squeeze_excite_block(filters,input):                      \n",
    "    se = tf.keras.layers.GlobalAveragePooling2D()(input)\n",
    "    se = tf.keras.layers.Reshape((1, filters))(se) \n",
    "    se = tf.keras.layers.Dense(filters//16, activation='relu')(se)\n",
    "    se = tf.keras.layers.Dense(filters, activation='sigmoid')(se)\n",
    "    se = tf.keras.layers.multiply([input, se])\n",
    "    return se\n",
    "\n",
    "\n",
    "model_input = tf.keras.Input(shape=(28,28,1), name='img')\n",
    "x = tf.keras.layers.Conv2D(64, 3, activation='relu', padding=\"same\")(model_input)\n",
    "x = tf.keras.layers.Conv2D(64, 3, activation='relu', padding=\"same\")(x)\n",
    "x = tf.keras.layers.BatchNormalization()(x)\n",
    "x = tf.keras.layers.MaxPooling2D((2, 2))(x)\n",
    "x = squeeze_excite_block(64,x)\n",
    "x = tf.keras.layers.Dropout(0.1)(x)\n",
    "\n",
    "x = tf.keras.layers.Conv2D(64, 3, activation='relu', padding=\"same\")(x)\n",
    "x = tf.keras.layers.Conv2D(64, 3, activation='relu', padding=\"same\")(x)\n",
    "x = tf.keras.layers.BatchNormalization()(x)\n",
    "x = tf.keras.layers.MaxPooling2D((2, 2))(x)\n",
    "x = squeeze_excite_block(64,x)\n",
    "x = tf.keras.layers.Dropout(0.1)(x)\n",
    "\n",
    "x = tf.keras.layers.Conv2D(128, 3, activation='relu', padding=\"same\")(x)\n",
    "x = tf.keras.layers.Conv2D(128, 3, activation='relu', padding=\"same\")(x)\n",
    "x = tf.keras.layers.BatchNormalization()(x)\n",
    "x = tf.keras.layers.MaxPooling2D((2, 2))(x)\n",
    "x = squeeze_excite_block(128,x)\n",
    "x = tf.keras.layers.Dropout(0.3)(x)\n",
    "\n",
    "x = tf.keras.layers.Flatten()(x)\n",
    "\n",
    "x = tf.keras.layers.Dense(256, activation='relu')(x)\n",
    "x = tf.keras.layers.Dropout(0.3)(x)\n",
    "\n",
    "x = tf.keras.layers.Dense(64, activation='relu')(x)\n",
    "x = tf.keras.layers.Dropout(0.2)(x)\n",
    "\n",
    "model_output = tf.keras.layers.Dense(10)(x)\n",
    "\n",
    "model = tf.keras.Model(model_input, model_output, name=\"Classifical_model\")\n",
    "\n",
    "model.summary()\n",
    "\n",
    "model.compile(optimizer='adam', loss=tf.keras.losses.SparseCategoricalCrossentropy(from_logits=True), \n",
    "              metrics=['accuracy'])"
   ]
  },
  {
   "cell_type": "code",
   "execution_count": 9,
   "metadata": {},
   "outputs": [
    {
     "name": "stdout",
     "output_type": "stream",
     "text": [
      "Epoch 1/50\n",
      "\n",
      "Epoch 00001: val_accuracy improved from -inf to 0.97993, saving model to weights.best_v1.hdf5\n",
      "1348/1348 - 11s - loss: 0.2109 - accuracy: 0.9359 - val_loss: 0.0620 - val_accuracy: 0.9799\n",
      "Epoch 2/50\n",
      "\n",
      "Epoch 00002: val_accuracy did not improve from 0.97993\n",
      "1348/1348 - 13s - loss: 0.0790 - accuracy: 0.9785 - val_loss: 0.0953 - val_accuracy: 0.9731\n",
      "Epoch 3/50\n",
      "\n",
      "Epoch 00003: val_accuracy improved from 0.97993 to 0.98724, saving model to weights.best_v1.hdf5\n",
      "1348/1348 - 12s - loss: 0.0579 - accuracy: 0.9842 - val_loss: 0.0421 - val_accuracy: 0.9872\n",
      "Epoch 4/50\n",
      "\n",
      "Epoch 00004: val_accuracy improved from 0.98724 to 0.98741, saving model to weights.best_v1.hdf5\n",
      "1348/1348 - 11s - loss: 0.0501 - accuracy: 0.9863 - val_loss: 0.0449 - val_accuracy: 0.9874\n",
      "Epoch 5/50\n",
      "\n",
      "Epoch 00005: val_accuracy improved from 0.98741 to 0.99184, saving model to weights.best_v1.hdf5\n",
      "1348/1348 - 12s - loss: 0.0432 - accuracy: 0.9874 - val_loss: 0.0344 - val_accuracy: 0.9918\n",
      "Epoch 6/50\n",
      "\n",
      "Epoch 00006: val_accuracy did not improve from 0.99184\n",
      "1348/1348 - 12s - loss: 0.0377 - accuracy: 0.9903 - val_loss: 0.0325 - val_accuracy: 0.9906\n",
      "Epoch 7/50\n",
      "\n",
      "Epoch 00007: val_accuracy did not improve from 0.99184\n",
      "1348/1348 - 12s - loss: 0.0305 - accuracy: 0.9911 - val_loss: 0.0337 - val_accuracy: 0.9903\n",
      "Epoch 8/50\n",
      "\n",
      "Epoch 00008: val_accuracy did not improve from 0.99184\n",
      "1348/1348 - 12s - loss: 0.0318 - accuracy: 0.9916 - val_loss: 0.0325 - val_accuracy: 0.9908\n",
      "Epoch 9/50\n",
      "\n",
      "Epoch 00009: val_accuracy did not improve from 0.99184\n",
      "1348/1348 - 12s - loss: 0.0280 - accuracy: 0.9924 - val_loss: 0.0304 - val_accuracy: 0.9908\n",
      "Epoch 10/50\n",
      "\n",
      "Epoch 00010: val_accuracy did not improve from 0.99184\n",
      "1348/1348 - 12s - loss: 0.0253 - accuracy: 0.9929 - val_loss: 0.0433 - val_accuracy: 0.9905\n",
      "Epoch 11/50\n",
      "\n",
      "Epoch 00011: val_accuracy did not improve from 0.99184\n",
      "1348/1348 - 12s - loss: 0.0228 - accuracy: 0.9936 - val_loss: 0.0357 - val_accuracy: 0.9893\n",
      "Epoch 12/50\n",
      "\n",
      "Epoch 00012: val_accuracy improved from 0.99184 to 0.99286, saving model to weights.best_v1.hdf5\n",
      "1348/1348 - 12s - loss: 0.0219 - accuracy: 0.9939 - val_loss: 0.0350 - val_accuracy: 0.9929\n",
      "Epoch 13/50\n",
      "\n",
      "Epoch 00013: val_accuracy did not improve from 0.99286\n",
      "1348/1348 - 14s - loss: 0.0193 - accuracy: 0.9946 - val_loss: 0.0320 - val_accuracy: 0.9923\n",
      "Epoch 14/50\n",
      "\n",
      "Epoch 00014: val_accuracy did not improve from 0.99286\n",
      "1348/1348 - 13s - loss: 0.0189 - accuracy: 0.9947 - val_loss: 0.0558 - val_accuracy: 0.9895\n",
      "Epoch 15/50\n",
      "\n",
      "Epoch 00015: val_accuracy improved from 0.99286 to 0.99439, saving model to weights.best_v1.hdf5\n",
      "1348/1348 - 14s - loss: 0.0111 - accuracy: 0.9966 - val_loss: 0.0273 - val_accuracy: 0.9944\n",
      "Epoch 16/50\n",
      "\n",
      "Epoch 00016: val_accuracy improved from 0.99439 to 0.99507, saving model to weights.best_v1.hdf5\n",
      "1348/1348 - 13s - loss: 0.0066 - accuracy: 0.9981 - val_loss: 0.0272 - val_accuracy: 0.9951\n",
      "Epoch 17/50\n",
      "\n",
      "Epoch 00017: val_accuracy did not improve from 0.99507\n",
      "1348/1348 - 14s - loss: 0.0050 - accuracy: 0.9984 - val_loss: 0.0296 - val_accuracy: 0.9949\n",
      "Epoch 18/50\n",
      "\n",
      "Epoch 00018: val_accuracy improved from 0.99507 to 0.99575, saving model to weights.best_v1.hdf5\n",
      "1348/1348 - 13s - loss: 0.0051 - accuracy: 0.9984 - val_loss: 0.0283 - val_accuracy: 0.9957\n",
      "Epoch 19/50\n",
      "\n",
      "Epoch 00019: val_accuracy did not improve from 0.99575\n",
      "1348/1348 - 13s - loss: 0.0044 - accuracy: 0.9986 - val_loss: 0.0295 - val_accuracy: 0.9951\n",
      "Epoch 20/50\n",
      "\n",
      "Epoch 00020: val_accuracy did not improve from 0.99575\n",
      "1348/1348 - 13s - loss: 0.0033 - accuracy: 0.9990 - val_loss: 0.0308 - val_accuracy: 0.9949\n",
      "Epoch 21/50\n",
      "\n",
      "Epoch 00021: val_accuracy did not improve from 0.99575\n",
      "1348/1348 - 11s - loss: 0.0034 - accuracy: 0.9990 - val_loss: 0.0323 - val_accuracy: 0.9952\n",
      "Epoch 22/50\n",
      "\n",
      "Epoch 00022: val_accuracy did not improve from 0.99575\n",
      "1348/1348 - 13s - loss: 0.0031 - accuracy: 0.9990 - val_loss: 0.0353 - val_accuracy: 0.9954\n",
      "Epoch 23/50\n",
      "\n",
      "Epoch 00023: val_accuracy did not improve from 0.99575\n",
      "1348/1348 - 13s - loss: 0.0031 - accuracy: 0.9989 - val_loss: 0.0353 - val_accuracy: 0.9951\n",
      "Epoch 24/50\n",
      "\n",
      "Epoch 00024: val_accuracy did not improve from 0.99575\n",
      "1348/1348 - 14s - loss: 0.0028 - accuracy: 0.9992 - val_loss: 0.0331 - val_accuracy: 0.9944\n",
      "Epoch 25/50\n",
      "\n",
      "Epoch 00025: val_accuracy did not improve from 0.99575\n",
      "1348/1348 - 14s - loss: 0.0027 - accuracy: 0.9992 - val_loss: 0.0355 - val_accuracy: 0.9949\n",
      "Epoch 26/50\n",
      "\n",
      "Epoch 00026: val_accuracy did not improve from 0.99575\n",
      "1348/1348 - 13s - loss: 0.0024 - accuracy: 0.9992 - val_loss: 0.0371 - val_accuracy: 0.9946\n",
      "Epoch 27/50\n",
      "\n",
      "Epoch 00027: val_accuracy did not improve from 0.99575\n",
      "1348/1348 - 12s - loss: 0.0023 - accuracy: 0.9993 - val_loss: 0.0365 - val_accuracy: 0.9952\n",
      "Epoch 28/50\n",
      "\n",
      "Epoch 00028: val_accuracy did not improve from 0.99575\n",
      "1348/1348 - 13s - loss: 0.0016 - accuracy: 0.9995 - val_loss: 0.0387 - val_accuracy: 0.9952\n",
      "Epoch 00028: early stopping\n"
     ]
    }
   ],
   "source": [
    "earlystop_callback = tf.keras.callbacks.EarlyStopping(\n",
    "                                            monitor='val_accuracy', min_delta=0.0000001, \n",
    "                                            patience=10, verbose=2, mode='auto')\n",
    "\n",
    "reduce_lr_callback = tf.keras.callbacks.ReduceLROnPlateau(\n",
    "                                            monitor='val_loss', factor=0.1, \n",
    "                                            patience=5, min_lr=0.0001)\n",
    "\n",
    "filepath=\"weights.best_v1.hdf5\"\n",
    "checkpoint_callback = tf.keras.callbacks.ModelCheckpoint(filepath, monitor='val_accuracy', verbose=1, save_best_only=True, mode='max')\n",
    "\n",
    "history = model.fit(train_images, train_labels, epochs=50, validation_split=0.12, \n",
    "                    callbacks=[earlystop_callback, reduce_lr_callback, checkpoint_callback],\n",
    "                    verbose=2)"
   ]
  },
  {
   "cell_type": "code",
   "execution_count": 10,
   "metadata": {},
   "outputs": [
    {
     "name": "stdout",
     "output_type": "stream",
     "text": [
      "dict_keys(['loss', 'accuracy', 'val_loss', 'val_accuracy', 'lr'])\n"
     ]
    },
    {
     "data": {
      "image/png": "[encoded data removed]",
      "text/plain": [
       "<Figure size 432x288 with 1 Axes>"
      ]
     },
     "metadata": {
      "needs_background": "light"
     },
     "output_type": "display_data"
    },
    {
     "data": {
      "image/png": "[encoded data removed]",
      "text/plain": [
       "<Figure size 432x288 with 1 Axes>"
      ]
     },
     "metadata": {
      "needs_background": "light"
     },
     "output_type": "display_data"
    }
   ],
   "source": [
    "# list all data in history\n",
    "print(history.history.keys())\n",
    "# summarize history for accuracy\n",
    "plt.plot(history.history['accuracy'])\n",
    "plt.plot(history.history['val_accuracy'])\n",
    "plt.title('model accuracy')\n",
    "plt.ylabel('accuracy')\n",
    "plt.xlabel('epoch')\n",
    "plt.legend(['train', 'test'], loc='upper left')\n",
    "plt.show()\n",
    "# summarize history for loss\n",
    "plt.plot(history.history['loss'])\n",
    "plt.plot(history.history['val_loss'])\n",
    "plt.title('model loss')\n",
    "plt.ylabel('loss')\n",
    "plt.xlabel('epoch')\n",
    "plt.legend(['train', 'test'], loc='upper left')\n",
    "plt.show()"
   ]
  },
  {
   "cell_type": "code",
   "execution_count": 11,
   "metadata": {},
   "outputs": [
    {
     "data": {
      "text/plain": [
       "array([4, 0, 9, ..., 6, 6, 2])"
      ]
     },
     "execution_count": 11,
     "metadata": {},
     "output_type": "execute_result"
    }
   ],
   "source": [
    "model.load_weights(\"weights.best_v1.hdf5\")\n",
    "model.compile(optimizer='adam', loss=tf.keras.losses.SparseCategoricalCrossentropy(from_logits=True), \n",
    "              metrics=['accuracy'])\n",
    "predictions = np.argmax(model.predict(test_images), axis=-1)\n",
    "predictions"
   ]
  },
  {
   "cell_type": "code",
   "execution_count": 13,
   "metadata": {},
   "outputs": [
    {
     "data": {
      "text/html": [
       "<div>\n",
       "<style scoped>\n",
       "    .dataframe tbody tr th:only-of-type {\n",
       "        vertical-align: middle;\n",
       "    }\n",
       "\n",
       "    .dataframe tbody tr th {\n",
       "        vertical-align: top;\n",
       "    }\n",
       "\n",
       "    .dataframe thead th {\n",
       "        text-align: right;\n",
       "    }\n",
       "</style>\n",
       "<table border=\"1\" class=\"dataframe\">\n",
       "  <thead>\n",
       "    <tr style=\"text-align: right;\">\n",
       "      <th></th>\n",
       "      <th>filename</th>\n",
       "      <th>label</th>\n",
       "    </tr>\n",
       "  </thead>\n",
       "  <tbody>\n",
       "    <tr>\n",
       "      <th>0</th>\n",
       "      <td>49000.png</td>\n",
       "      <td>4</td>\n",
       "    </tr>\n",
       "    <tr>\n",
       "      <th>1</th>\n",
       "      <td>49001.png</td>\n",
       "      <td>0</td>\n",
       "    </tr>\n",
       "    <tr>\n",
       "      <th>2</th>\n",
       "      <td>49002.png</td>\n",
       "      <td>9</td>\n",
       "    </tr>\n",
       "    <tr>\n",
       "      <th>3</th>\n",
       "      <td>49003.png</td>\n",
       "      <td>7</td>\n",
       "    </tr>\n",
       "    <tr>\n",
       "      <th>4</th>\n",
       "      <td>49004.png</td>\n",
       "      <td>9</td>\n",
       "    </tr>\n",
       "    <tr>\n",
       "      <th>...</th>\n",
       "      <td>...</td>\n",
       "      <td>...</td>\n",
       "    </tr>\n",
       "    <tr>\n",
       "      <th>20995</th>\n",
       "      <td>69995.png</td>\n",
       "      <td>9</td>\n",
       "    </tr>\n",
       "    <tr>\n",
       "      <th>20996</th>\n",
       "      <td>69996.png</td>\n",
       "      <td>2</td>\n",
       "    </tr>\n",
       "    <tr>\n",
       "      <th>20997</th>\n",
       "      <td>69997.png</td>\n",
       "      <td>6</td>\n",
       "    </tr>\n",
       "    <tr>\n",
       "      <th>20998</th>\n",
       "      <td>69998.png</td>\n",
       "      <td>6</td>\n",
       "    </tr>\n",
       "    <tr>\n",
       "      <th>20999</th>\n",
       "      <td>69999.png</td>\n",
       "      <td>2</td>\n",
       "    </tr>\n",
       "  </tbody>\n",
       "</table>\n",
       "<p>21000 rows × 2 columns</p>\n",
       "</div>"
      ],
      "text/plain": [
       "        filename  label\n",
       "0      49000.png      4\n",
       "1      49001.png      0\n",
       "2      49002.png      9\n",
       "3      49003.png      7\n",
       "4      49004.png      9\n",
       "...          ...    ...\n",
       "20995  69995.png      9\n",
       "20996  69996.png      2\n",
       "20997  69997.png      6\n",
       "20998  69998.png      6\n",
       "20999  69999.png      2\n",
       "\n",
       "[21000 rows x 2 columns]"
      ]
     },
     "execution_count": 13,
     "metadata": {},
     "output_type": "execute_result"
    }
   ],
   "source": [
    "test = pd.read_csv(\"./Test_UQcUa52/Test_fCbTej3_0j1gHmj.csv\")\n",
    "test['label'] = pd.DataFrame(data=predictions.flatten())\n",
    "test.to_csv(\"./Results/test_v2.csv\", index=False)\n",
    "test"
   ]
  },
  {
   "cell_type": "code",
   "execution_count": null,
   "metadata": {},
   "outputs": [],
   "source": []
  }
 ],
 "metadata": {
  "kernelspec": {
   "display_name": "Python 3",
   "language": "python",
   "name": "python3"
  },
  "language_info": {
   "codemirror_mode": {
    "name": "ipython",
    "version": 3
   },
   "file_extension": ".py",
   "mimetype": "text/x-python",
   "name": "python",
   "nbconvert_exporter": "python",
   "pygments_lexer": "ipython3",
   "version": "3.8.5"
  }
 },
 "nbformat": 4,
 "nbformat_minor": 4
}
